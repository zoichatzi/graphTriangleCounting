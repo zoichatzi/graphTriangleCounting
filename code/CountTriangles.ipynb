{
  "nbformat": 4,
  "nbformat_minor": 0,
  "metadata": {
    "colab": {
      "provenance": []
    },
    "kernelspec": {
      "name": "python3",
      "display_name": "Python 3"
    },
    "language_info": {
      "name": "python"
    }
  },
  "cells": [
    {
      "cell_type": "markdown",
      "source": [
        "# Count Triangles in complex Graphs"
      ],
      "metadata": {
        "id": "YtLP4Cx8glT2"
      }
    },
    {
      "cell_type": "markdown",
      "source": [
        ">[Count Triangles in complex Graphs](#scrollTo=YtLP4Cx8glT2)\n",
        "\n",
        ">>[1.Import the graph](#scrollTo=Fo7kV7lPgDHA)\n",
        "\n",
        ">>[2.Visualization, pre-processing and basic theory](#scrollTo=RIuNTuZbg7Ne)\n",
        "\n",
        ">>>>[2.1 Remove self-loops if any.](#scrollTo=OzBePmegwRYv)\n",
        "\n",
        ">>>[2.2 Visualize the Graph.](#scrollTo=Konpx66ewE_T)\n",
        "\n",
        ">>>[2.3 Basic theory.](#scrollTo=c5lFCYkLwKl1)\n",
        "\n",
        ">>>>[2.3.1 Brute-force (All triplets)](#scrollTo=DMbFI3S37Tyj)\n",
        "\n",
        ">>>>[2.3.2 Node-Iterator](#scrollTo=X2KFUi887RIM)\n",
        "\n",
        ">>>>[2.3.3 Compact Forward](#scrollTo=HN3etdfH8_z5)\n",
        "\n",
        ">>>[2.4 Performance comparison of the exact techiques.](#scrollTo=wyCVVHsdmVz_)\n",
        "\n",
        ">>[3.Implementation of the DOULION method.](#scrollTo=JxPS4GcXJOco)\n",
        "\n",
        ">[4.Implementation of Streaming Algorithm](#scrollTo=7qzcP3NbTqUc)\n",
        "\n"
      ],
      "metadata": {
        "colab_type": "toc",
        "id": "U-_Ig9daFCMi"
      }
    },
    {
      "cell_type": "markdown",
      "source": [
        "\n",
        "\n",
        "---\n",
        "\n"
      ],
      "metadata": {
        "id": "D1ycD7lCEaD7"
      }
    },
    {
      "cell_type": "markdown",
      "source": [
        "## 1.Import the graph\n",
        "For testing and implementation purposes we are using an undirected graph. The graph is available on [SNAP](https://snap.stanford.edu/data/ca-GrQc.html).\n",
        "\n",
        "**Dataset statistics**\n",
        "- Nodes\t5242\n",
        "- Edges\t14496\n",
        "- Nodes in largest WCC\t4158 (0.793)\n",
        "- Edges in largest WCC\t13428 (0.926)\n",
        "- Nodes in largest SCC\t4158 (0.793)\n",
        "- Edges in largest SCC\t13428 (0.926)\n",
        "- Average clustering coefficient\t0.5296\n",
        "- **Number of triangles\t48260**\n",
        "- Fraction of closed triangles\t0.3619\n",
        "- Diameter (longest shortest path)\t17\n",
        "- 90-percentile effective diameter\t7.6\n"
      ],
      "metadata": {
        "id": "Fo7kV7lPgDHA"
      }
    },
    {
      "cell_type": "code",
      "execution_count": null,
      "metadata": {
        "id": "GSdTXTvhRt9Z",
        "colab": {
          "base_uri": "https://localhost:8080/"
        },
        "outputId": "fdb11b33-b2ef-4689-f3cb-ce2769a340a1"
      },
      "outputs": [
        {
          "output_type": "stream",
          "name": "stdout",
          "text": [
            "Looking in indexes: https://pypi.org/simple, https://us-python.pkg.dev/colab-wheels/public/simple/\n",
            "Requirement already satisfied: scipy>=1.8 in /usr/local/lib/python3.8/dist-packages (1.10.0)\n",
            "Requirement already satisfied: numpy<1.27.0,>=1.19.5 in /usr/local/lib/python3.8/dist-packages (from scipy>=1.8) (1.21.6)\n"
          ]
        }
      ],
      "source": [
        "import networkx as nx\n",
        "import io\n",
        "import numpy as np\n",
        "import pandas as pd\n",
        "import itertools\n",
        "from scipy.sparse import csr_matrix\n",
        "import matplotlib.pyplot as plt\n",
        "import time\n",
        "%matplotlib inline\n",
        "import matplotlib.pyplot as plt\n",
        "!pip install 'scipy>=1.8'\n",
        "#! pip install 'networkx==2.6'"
      ]
    },
    {
      "cell_type": "code",
      "source": [
        "#Here, we use a small-sized dataset (14496 edges). We need two more datasets for sufficient comparison of Doulion:\n",
        "#medium-sized dataset (93497 edges) retrieved from http://snap.stanford.edu/: http://snap.stanford.edu/data/ca-CondMat.html \n",
        "#large-sized dataset (2766607 edges) retrieved from http://snap.stanford.edu/: http://snap.stanford.edu/data/roadNet-CA.html\n",
        "\n",
        "from google.colab import files\n",
        "uploaded = files.upload()"
      ],
      "metadata": {
        "colab": {
          "base_uri": "https://localhost:8080/",
          "height": 74
        },
        "id": "EkmU260Udvqm",
        "outputId": "f1229cec-4b70-46b9-c06f-e62856ce9834"
      },
      "execution_count": null,
      "outputs": [
        {
          "output_type": "display_data",
          "data": {
            "text/plain": [
              "<IPython.core.display.HTML object>"
            ],
            "text/html": [
              "\n",
              "     <input type=\"file\" id=\"files-152539b5-e8e3-430d-beaf-61b122d38025\" name=\"files[]\" multiple disabled\n",
              "        style=\"border:none\" />\n",
              "     <output id=\"result-152539b5-e8e3-430d-beaf-61b122d38025\">\n",
              "      Upload widget is only available when the cell has been executed in the\n",
              "      current browser session. Please rerun this cell to enable.\n",
              "      </output>\n",
              "      <script>// Copyright 2017 Google LLC\n",
              "//\n",
              "// Licensed under the Apache License, Version 2.0 (the \"License\");\n",
              "// you may not use this file except in compliance with the License.\n",
              "// You may obtain a copy of the License at\n",
              "//\n",
              "//      http://www.apache.org/licenses/LICENSE-2.0\n",
              "//\n",
              "// Unless required by applicable law or agreed to in writing, software\n",
              "// distributed under the License is distributed on an \"AS IS\" BASIS,\n",
              "// WITHOUT WARRANTIES OR CONDITIONS OF ANY KIND, either express or implied.\n",
              "// See the License for the specific language governing permissions and\n",
              "// limitations under the License.\n",
              "\n",
              "/**\n",
              " * @fileoverview Helpers for google.colab Python module.\n",
              " */\n",
              "(function(scope) {\n",
              "function span(text, styleAttributes = {}) {\n",
              "  const element = document.createElement('span');\n",
              "  element.textContent = text;\n",
              "  for (const key of Object.keys(styleAttributes)) {\n",
              "    element.style[key] = styleAttributes[key];\n",
              "  }\n",
              "  return element;\n",
              "}\n",
              "\n",
              "// Max number of bytes which will be uploaded at a time.\n",
              "const MAX_PAYLOAD_SIZE = 100 * 1024;\n",
              "\n",
              "function _uploadFiles(inputId, outputId) {\n",
              "  const steps = uploadFilesStep(inputId, outputId);\n",
              "  const outputElement = document.getElementById(outputId);\n",
              "  // Cache steps on the outputElement to make it available for the next call\n",
              "  // to uploadFilesContinue from Python.\n",
              "  outputElement.steps = steps;\n",
              "\n",
              "  return _uploadFilesContinue(outputId);\n",
              "}\n",
              "\n",
              "// This is roughly an async generator (not supported in the browser yet),\n",
              "// where there are multiple asynchronous steps and the Python side is going\n",
              "// to poll for completion of each step.\n",
              "// This uses a Promise to block the python side on completion of each step,\n",
              "// then passes the result of the previous step as the input to the next step.\n",
              "function _uploadFilesContinue(outputId) {\n",
              "  const outputElement = document.getElementById(outputId);\n",
              "  const steps = outputElement.steps;\n",
              "\n",
              "  const next = steps.next(outputElement.lastPromiseValue);\n",
              "  return Promise.resolve(next.value.promise).then((value) => {\n",
              "    // Cache the last promise value to make it available to the next\n",
              "    // step of the generator.\n",
              "    outputElement.lastPromiseValue = value;\n",
              "    return next.value.response;\n",
              "  });\n",
              "}\n",
              "\n",
              "/**\n",
              " * Generator function which is called between each async step of the upload\n",
              " * process.\n",
              " * @param {string} inputId Element ID of the input file picker element.\n",
              " * @param {string} outputId Element ID of the output display.\n",
              " * @return {!Iterable<!Object>} Iterable of next steps.\n",
              " */\n",
              "function* uploadFilesStep(inputId, outputId) {\n",
              "  const inputElement = document.getElementById(inputId);\n",
              "  inputElement.disabled = false;\n",
              "\n",
              "  const outputElement = document.getElementById(outputId);\n",
              "  outputElement.innerHTML = '';\n",
              "\n",
              "  const pickedPromise = new Promise((resolve) => {\n",
              "    inputElement.addEventListener('change', (e) => {\n",
              "      resolve(e.target.files);\n",
              "    });\n",
              "  });\n",
              "\n",
              "  const cancel = document.createElement('button');\n",
              "  inputElement.parentElement.appendChild(cancel);\n",
              "  cancel.textContent = 'Cancel upload';\n",
              "  const cancelPromise = new Promise((resolve) => {\n",
              "    cancel.onclick = () => {\n",
              "      resolve(null);\n",
              "    };\n",
              "  });\n",
              "\n",
              "  // Wait for the user to pick the files.\n",
              "  const files = yield {\n",
              "    promise: Promise.race([pickedPromise, cancelPromise]),\n",
              "    response: {\n",
              "      action: 'starting',\n",
              "    }\n",
              "  };\n",
              "\n",
              "  cancel.remove();\n",
              "\n",
              "  // Disable the input element since further picks are not allowed.\n",
              "  inputElement.disabled = true;\n",
              "\n",
              "  if (!files) {\n",
              "    return {\n",
              "      response: {\n",
              "        action: 'complete',\n",
              "      }\n",
              "    };\n",
              "  }\n",
              "\n",
              "  for (const file of files) {\n",
              "    const li = document.createElement('li');\n",
              "    li.append(span(file.name, {fontWeight: 'bold'}));\n",
              "    li.append(span(\n",
              "        `(${file.type || 'n/a'}) - ${file.size} bytes, ` +\n",
              "        `last modified: ${\n",
              "            file.lastModifiedDate ? file.lastModifiedDate.toLocaleDateString() :\n",
              "                                    'n/a'} - `));\n",
              "    const percent = span('0% done');\n",
              "    li.appendChild(percent);\n",
              "\n",
              "    outputElement.appendChild(li);\n",
              "\n",
              "    const fileDataPromise = new Promise((resolve) => {\n",
              "      const reader = new FileReader();\n",
              "      reader.onload = (e) => {\n",
              "        resolve(e.target.result);\n",
              "      };\n",
              "      reader.readAsArrayBuffer(file);\n",
              "    });\n",
              "    // Wait for the data to be ready.\n",
              "    let fileData = yield {\n",
              "      promise: fileDataPromise,\n",
              "      response: {\n",
              "        action: 'continue',\n",
              "      }\n",
              "    };\n",
              "\n",
              "    // Use a chunked sending to avoid message size limits. See b/62115660.\n",
              "    let position = 0;\n",
              "    do {\n",
              "      const length = Math.min(fileData.byteLength - position, MAX_PAYLOAD_SIZE);\n",
              "      const chunk = new Uint8Array(fileData, position, length);\n",
              "      position += length;\n",
              "\n",
              "      const base64 = btoa(String.fromCharCode.apply(null, chunk));\n",
              "      yield {\n",
              "        response: {\n",
              "          action: 'append',\n",
              "          file: file.name,\n",
              "          data: base64,\n",
              "        },\n",
              "      };\n",
              "\n",
              "      let percentDone = fileData.byteLength === 0 ?\n",
              "          100 :\n",
              "          Math.round((position / fileData.byteLength) * 100);\n",
              "      percent.textContent = `${percentDone}% done`;\n",
              "\n",
              "    } while (position < fileData.byteLength);\n",
              "  }\n",
              "\n",
              "  // All done.\n",
              "  yield {\n",
              "    response: {\n",
              "      action: 'complete',\n",
              "    }\n",
              "  };\n",
              "}\n",
              "\n",
              "scope.google = scope.google || {};\n",
              "scope.google.colab = scope.google.colab || {};\n",
              "scope.google.colab._files = {\n",
              "  _uploadFiles,\n",
              "  _uploadFilesContinue,\n",
              "};\n",
              "})(self);\n",
              "</script> "
            ]
          },
          "metadata": {}
        },
        {
          "output_type": "stream",
          "name": "stdout",
          "text": [
            "Saving roadNet-PA.txt to roadNet-PA.txt\n"
          ]
        }
      ]
    },
    {
      "cell_type": "code",
      "source": [
        "#g = nx.read_edgelist(io.BytesIO(uploaded[\"CA-GrQc.txt\"]),create_using=nx.Graph(), nodetype = int)\n",
        "#g = nx.read_edgelist(io.BytesIO(uploaded[\"ca-CondMat.txt\"]),create_using=nx.Graph(), nodetype = int)\n",
        "g = nx.read_edgelist(io.BytesIO(uploaded[\"roadNet-CA.txt\"]),create_using=nx.Graph(), nodetype = int)\n"
      ],
      "metadata": {
        "id": "ei3LuRSteBl4"
      },
      "execution_count": null,
      "outputs": []
    },
    {
      "cell_type": "code",
      "source": [
        "triangles_nx = sum(nx.triangles(g).values()) / 3\n",
        "print(triangles_nx)"
      ],
      "metadata": {
        "colab": {
          "base_uri": "https://localhost:8080/"
        },
        "id": "Bzw2MEKXeici",
        "outputId": "555de604-d708-41d6-b8b5-11c11d0e1d3c"
      },
      "execution_count": null,
      "outputs": [
        {
          "output_type": "stream",
          "name": "stdout",
          "text": [
            "67150.0\n"
          ]
        }
      ]
    },
    {
      "cell_type": "markdown",
      "source": [
        "## 2.Visualization, pre-processing and basic theory"
      ],
      "metadata": {
        "id": "RIuNTuZbg7Ne"
      }
    },
    {
      "cell_type": "markdown",
      "source": [
        "#### 2.1 Remove self-loops if any."
      ],
      "metadata": {
        "id": "OzBePmegwRYv"
      }
    },
    {
      "cell_type": "code",
      "source": [
        "g.remove_edges_from(nx.selfloop_edges(g))\n"
      ],
      "metadata": {
        "id": "48CYqdeOeI--"
      },
      "execution_count": null,
      "outputs": []
    },
    {
      "cell_type": "markdown",
      "source": [
        "### 2.2 Visualize the Graph."
      ],
      "metadata": {
        "id": "Konpx66ewE_T"
      }
    },
    {
      "cell_type": "code",
      "source": [
        "print('\\n\\n Graphical Representation of G: \\n\\n')\n",
        "nx.draw_networkx(g,with_labels=False, node_size=50)"
      ],
      "metadata": {
        "colab": {
          "base_uri": "https://localhost:8080/",
          "height": 335
        },
        "id": "InXh4dMvtxwS",
        "outputId": "f16191ef-caf9-480f-def6-cf7b068490b7"
      },
      "execution_count": null,
      "outputs": [
        {
          "output_type": "stream",
          "name": "stdout",
          "text": [
            "\n",
            "\n",
            " Graphical Representation of G: \n",
            "\n",
            "\n"
          ]
        },
        {
          "output_type": "display_data",
          "data": {
            "text/plain": [
              "<Figure size 432x288 with 1 Axes>"
            ],
            "image/png": "[encoded data removed]"
          },
          "metadata": {}
        }
      ]
    },
    {
      "cell_type": "markdown",
      "source": [
        "### 2.3 Basic theory."
      ],
      "metadata": {
        "id": "c5lFCYkLwKl1"
      }
    },
    {
      "cell_type": "markdown",
      "source": [
        "We list the following formulas from graph theory.\n",
        "\n",
        "The **indegree\\outdegree** of node **i** is defined as $$K^{in}_i=K^{out}_i=\\sum\\limits_{j=1}^{N}{A_{ij}}$$\n",
        "\n",
        "The **number of triangles** in a graph is defined as $$T(A)=\\frac{tr(A^3)}{6}$$\n",
        "\n",
        "The **number of triangles** *incident to node* **i** is defined as $$T_i\\left(A\\right)=\\frac{1}{2}\\sum\\limits_{j=1}^{N}\\sum\\limits_{k=1}^{N}{A_{ij}A_{jk}A_{ki}\\left(1-\\delta_{j,k}\\right)}:\\delta_{j,k} =\\left\\{\\begin{array}{ll}0  & \\mbox{if } j \\neq k \\\\1 & \\mbox{if } j = k\\end{array}\\right.$$\n"
      ],
      "metadata": {
        "id": "lBN3xntrvxAK"
      }
    },
    {
      "cell_type": "markdown",
      "source": [
        "#### 2.3.1 Brute-force (All triplets)\n",
        "The application of the above formula without any optimization techique will be our baseline brute-force model. The triangle counting brute-force algorithm examines all triplets of nodes u,v,w. If all of the edges appear, a triangle has been detected."
      ],
      "metadata": {
        "id": "DMbFI3S37Tyj"
      }
    },
    {
      "cell_type": "code",
      "source": [
        "def all_triplets(g):\n",
        "  '''computes all triangles of the network by checking all triplets'''\n",
        "\n",
        "  A = nx.adjacency_matrix(g).todense()\n",
        "  adj_matrix_l3 = np.array(A**3)\n",
        "  triangles = int(np.sum([adj_matrix_l3[i][i] for i in range(0,g.number_of_nodes())]) * 1/6)\n",
        "\n",
        "  return triangles\n",
        "\n"
      ],
      "metadata": {
        "id": "eBDHgs6oyPQI"
      },
      "execution_count": null,
      "outputs": []
    },
    {
      "cell_type": "code",
      "source": [
        "AllTriplTriangles = all_triplets(g)\n",
        "print(\"The number of triangles that brute force algorithm has found are\",AllTriplTriangles)"
      ],
      "metadata": {
        "id": "ak6PRNBU2wnX"
      },
      "execution_count": null,
      "outputs": []
    },
    {
      "cell_type": "markdown",
      "source": [
        "Total run time: 1h 12mins"
      ],
      "metadata": {
        "id": "nK9WsynvANRf"
      }
    },
    {
      "cell_type": "markdown",
      "source": [
        "#### 2.3.2 Node-Iterator\n",
        "Another method is to examine each node of G to see if it forms any triangles with its neighbors. This algorithm loops through all of the graph's nodes (NodeIterator). Let v be the next node to be checked. Check if all possible pairs of nodes u, w (both neighbors of v) are connected by an edge. If the answer is YES, output the triangle v, u, w."
      ],
      "metadata": {
        "id": "X2KFUi887RIM"
      }
    },
    {
      "cell_type": "code",
      "source": [
        "def node_iterator(g):\n",
        "  '''runs NodeIterator algorithm &  returns the total number of triangles in the network''' \n",
        "  \n",
        "  start_time_ni = time.process_time()\n",
        "  nodes = nx.nodes(g)\n",
        "  triangs=0\n",
        "  for node in nodes: #for all nodes\n",
        "    bors = list(nx.neighbors(g,node)) #the neighbors of each node\n",
        "    if len(bors)>1:\n",
        "      for pair in itertools.combinations(bors,r=2): #for all combinations of 2 of node's neighbors\n",
        "        if pair[0] in list(nx.neighbors(g,pair[1])): #if they are also neighbors\n",
        "          triangs=triangs+1\n",
        "\n",
        "  time_of_ni = (time.process_time() - start_time_ni)\n",
        "  return int(triangs/3), time_of_ni\n",
        "\n"
      ],
      "metadata": {
        "id": "4Ebwvfg4AfJ2"
      },
      "execution_count": null,
      "outputs": []
    },
    {
      "cell_type": "code",
      "source": [
        "NodeIterTriangles, time_ni = node_iterator(g)\n",
        "print(\"The number of triangles that NodeIterator has found are\",NodeIterTriangles)\n",
        "print(\"time needed for NodeIterator to run\", time_ni)"
      ],
      "metadata": {
        "colab": {
          "base_uri": "https://localhost:8080/"
        },
        "id": "Lw9n49rH08da",
        "outputId": "4e5d3cab-bcdd-4e6a-81c6-b64119a6fc9f"
      },
      "execution_count": null,
      "outputs": [
        {
          "output_type": "stream",
          "name": "stdout",
          "text": [
            "The number of triangles that NodeIterator has found are 67150\n",
            "time needed for NodeIterator to run 4.417737073999888\n"
          ]
        }
      ]
    },
    {
      "cell_type": "markdown",
      "source": [
        "#### 2.3.3 Compact Forward\n",
        "Algorithm CompactForward (it does not require additional space to store the neighbors of every node dynamically)."
      ],
      "metadata": {
        "id": "HN3etdfH8_z5"
      }
    },
    {
      "cell_type": "code",
      "source": [
        "def c_forward(graph):\n",
        "    '''runs Compact Forward algorithm &  returns the total number of triangles in the network''' \n",
        "    \n",
        "    time_start_cf = time.process_time()   \n",
        "    tri = 0 \n",
        "    vertices = graph.nodes()\n",
        "    degrees = [graph.degree(v) for v in vertices]\n",
        "    #sort nodes based on decreasing order o degree\n",
        "    newDeg, newVer = zip(*sorted(zip(degrees,vertices), reverse=True))\n",
        "    newDeg, newVer =np.array(newDeg), np.array(newVer)\n",
        "    ver_dict = dict(zip(newVer, range(len(newVer)))) #dict node_id:index\n",
        "    i = 0\n",
        "    for v in newVer:\n",
        "        \n",
        "        neighbors = list(graph.neighbors(v))\n",
        "        if len(neighbors)>0:\n",
        "            #sort also neighbors on decreasing order of degree\n",
        "            nei_degrees = [graph.degree(v) for v in neighbors]\n",
        "            newNeiDeg, newNeiVer = zip(*sorted(zip(nei_degrees,neighbors), reverse=True))\n",
        "            idx_base  = i\n",
        "            #if the smallest degree is higher than v's degree, ignore\n",
        "            idx_check = ver_dict[newNeiVer[-1]]\n",
        "            if idx_check>idx_base:\n",
        "                neib = filter(lambda item: ver_dict[item] > idx_base, newNeiVer)\n",
        "\n",
        "                for u in neib: #keep only neighbors with lower degree                           \n",
        "                    u_neighbors = list(graph.neighbors(u))\n",
        "                    u_nei_degrees = [graph.degree(i) for i in u_neighbors]\n",
        "                    _, newNei_u = zip(*sorted(zip(u_nei_degrees,u_neighbors), reverse=True))\n",
        "                    u1 = newNei_u[0]  #first  neighbor of u\n",
        "                    v1 = newNeiVer[0] #first neighbor of v\n",
        "                    c_u = 0 #counter for neighbors of u\n",
        "                    c_v = 0 #counter for neighbors of v\n",
        "                    idx_candid1 = ver_dict[u1]\n",
        "                    idx_candid2 = ver_dict[v1]                \n",
        "                   \n",
        "                    while (c_v<len(newNeiVer)-1) or (c_u<len(newNei_u)-1):\n",
        "                        if (idx_candid1<idx_base) & (idx_candid2<idx_base):\n",
        "                            if idx_candid1<idx_candid2:                            \n",
        "                                if c_u < len(newNei_u)-1:\n",
        "                                    c_u += 1\n",
        "                                    u1 = newNei_u[c_u]  #next neighbor of u\n",
        "                                    idx_candid1 = ver_dict[u1]\n",
        "                                else:\n",
        "                                    break                                    \n",
        "                            elif idx_candid1>idx_candid2:                            \n",
        "                                if c_v < len(newNeiVer)-1:\n",
        "                                    c_v += 1\n",
        "                                    v1 = newNeiVer[c_v]\n",
        "                                    idx_candid2 = ver_dict[v1]\n",
        "                                else:\n",
        "                                    break                                    \n",
        "                            else:\n",
        "                                tri += 1                            \n",
        "                                if c_u < len(newNei_u)-1:\n",
        "                                    c_u += 1\n",
        "                                    u1 = newNei_u[c_u]\n",
        "                                    idx_candid1 = ver_dict[u1]                        \n",
        "                                if c_v < len(newNeiVer)-1:\n",
        "                                    c_v += 1\n",
        "                                    v1 = newNeiVer[c_v]\n",
        "                                    idx_candid2 = ver_dict[v1]\n",
        "                        else:\n",
        "                            break\n",
        "        i+=1\n",
        "    time_of_cf = (time.process_time() - time_start_cf)         \n",
        "    return tri, time_of_cf"
      ],
      "metadata": {
        "id": "-3-nLTkOdA1T"
      },
      "execution_count": null,
      "outputs": []
    },
    {
      "cell_type": "code",
      "source": [
        "cForwardTriangles, time_cf = c_forward(g)\n",
        "print(\"The number of triangles that Compact Forward has found are\",cForwardTriangles)\n",
        "print(\"time needed for Compact Forward to run\", time_cf)"
      ],
      "metadata": {
        "id": "OoXr9tKNDhTA",
        "colab": {
          "base_uri": "https://localhost:8080/"
        },
        "outputId": "a80418df-6e3d-441e-fa2c-ba8edb8c1e57"
      },
      "execution_count": null,
      "outputs": [
        {
          "output_type": "stream",
          "name": "stdout",
          "text": [
            "The number of triangles that Compact Forward has found are 67150\n",
            "time needed for Compact Forward to run 27.678170604000115\n"
          ]
        }
      ]
    },
    {
      "cell_type": "markdown",
      "source": [],
      "metadata": {
        "id": "TUYGI-GPlgKV"
      }
    },
    {
      "cell_type": "markdown",
      "source": [
        "### 2.4 Performance comparison of the exact techiques.\n",
        "As all the above techiques are exact, there is no need to compare the results of each implementation rather than their performance. In the table bellow we can see each one of the three alfgorithms alongside with their performaces to three different graphs.\n",
        "\n",
        "- Graph 1:\n",
        "- Graph 2:\n",
        "- Graph 3:\n",
        "\n",
        "| Algorithm       | Graph1 | Graph2 | Graph3 |\n",
        "| --------------- | ------ | ------ | ------ |\n",
        "| All Triplets    | `1.0`  | `1.0`  | `1.0`  |\n",
        "| Node Iterator   | `1.0`  | `1.0`  | `1.0`  |\n",
        "| Compact Forward | `1.0`  | `1.0`  | `1.0`  |"
      ],
      "metadata": {
        "id": "wyCVVHsdmVz_"
      }
    },
    {
      "cell_type": "markdown",
      "source": [
        "### 3.Implementation of the DOULION method.\n"
      ],
      "metadata": {
        "id": "JxPS4GcXJOco"
      }
    },
    {
      "cell_type": "code",
      "source": [
        "#sparsification of graph\n",
        "def sparsify_graph(g, p):\n",
        "    '''it sparsifies the graph according to the value of p'''\n",
        "\n",
        "    g_sparse = nx.Graph()\n",
        "    for u,v in g.edges():\n",
        "        if np.random.random() <= p:\n",
        "            g_sparse.add_edge(u,v)\n",
        "    return g_sparse"
      ],
      "metadata": {
        "id": "QJ7bbxDDraMt"
      },
      "execution_count": null,
      "outputs": []
    },
    {
      "cell_type": "code",
      "source": [
        "def doulion(g, time_cf, time_ni):\n",
        "  '''it runs Doulion algorithm combined with NodeIterator and Compact Forward and \n",
        "  returns lists of related error, accuracy and speedups'''\n",
        "\n",
        "  rel_err_avg, acc_avg, dcf_speedup, dni_speedup, speedup_ni,\\\n",
        "    speedup_cf = [], [], [], [], [], []\n",
        "\n",
        "  for p in [0.1, 0.3, 0.5,0.7,0.9]:\n",
        "      acc_cf, rel_err_cf, acc_NIt, rel_err_NIt = [], [], [], []\n",
        "      for i in range(10): #run for 10 times\n",
        "          print(i)\n",
        "          time_start = time.process_time()  \n",
        "          graph = sparsify_graph(g, p)  #sparsify graph        \n",
        "          time_doul = (time.process_time() - time_start)\n",
        "          time_start_dcf = time.process_time()         \n",
        "          tri_cf,_ = c_forward(graph) #run compact forward\n",
        "          tri_cf_final = tri_cf/p**3\n",
        "          time_dcf = (time.process_time() - time_start_dcf + time_doul)\n",
        "          time_dcf = (time.process_time() - time_start_dcf)\n",
        "          speedup_cf.append(time_cf/time_dcf) #compute speedup for CF\n",
        "          if tri_cf_final <= triangles_nx: #compute accuracy \n",
        "            acc_cf.append(tri_cf_final/triangles_nx)\n",
        "          else:\n",
        "            num = triangles_nx-(tri_cf_final-triangles_nx)\n",
        "            acc_cf.append(num/triangles_nx)\n",
        "          rel_err_CF = abs((tri_cf_final-triangles_nx)/triangles_nx)\n",
        "          rel_err_cf.append(rel_err_CF)\n",
        "          time_start_dni = time.process_time()\n",
        "          tri_NIt,_ = node_iterator(graph) #run NodeIterator\n",
        "          tri_NIt_final = tri_NIt/p**3\n",
        "          time_dni = (time.process_time() - time_start_dni  + time_doul)\n",
        "          time_dni = (time.process_time() - time_start_dni)\n",
        "          speedup_ni.append(time_ni/time_dni) #compute speedup for NI\n",
        "          if tri_NIt_final <= triangles_nx: #compute accuracy to check if the values are the same\n",
        "            acc_NIt.append(tri_NIt_final/triangles_nx)\n",
        "          else:\n",
        "            num = triangles_nx-(tri_NIt_final-triangles_nx)\n",
        "            acc_NIt.append(num/triangles_nx)\n",
        "          rel_err_nit = abs((tri_NIt_final-triangles_nx)/triangles_nx)\n",
        "          rel_err_NIt.append(rel_err_nit)\n",
        "      rel_err_avg.append(np.mean(rel_err_cf))\n",
        "      acc_avg.append(np.mean(acc_cf))\n",
        "      dcf_speedup.append(np.mean(speedup_cf))\n",
        "      dni_speedup.append(np.mean(speedup_ni))\n",
        "      print('for CF & p=',p, 'mean related error is: ', np.mean(rel_err_cf), 'accuracy is ', np.mean(acc_cf))\n",
        "      print('for NI & p=',p,'mean related error is: ', np.mean(rel_err_NIt), 'accuracy is ', np.mean(acc_NIt))\n",
        "      print('for p=',p, 'std of related error is: ', np.std(rel_err_NIt),'std of accuracy is ', np.std(acc_NIt))\n",
        "  return rel_err_avg, acc_avg, dcf_speedup, dni_speedup\n",
        "\n"
      ],
      "metadata": {
        "id": "26OQTdJlkb5E"
      },
      "execution_count": null,
      "outputs": []
    },
    {
      "cell_type": "code",
      "source": [
        "rel_err, acc, dcf_speedup, dni_speedup = doulion(g, time_cf, time_ni)\n",
        "print(dcf_speedup, dni_speedup)"
      ],
      "metadata": {
        "colab": {
          "base_uri": "https://localhost:8080/"
        },
        "id": "hPSHRbXxCz7p",
        "outputId": "2d24504e-8a9a-42ba-dd92-948f4347e142"
      },
      "execution_count": null,
      "outputs": [
        {
          "output_type": "stream",
          "name": "stdout",
          "text": [
            "0\n",
            "1\n",
            "2\n",
            "3\n",
            "4\n",
            "5\n",
            "6\n",
            "7\n",
            "8\n",
            "9\n",
            "for CF & p= 0.1 mean related error is:  0.08294862248696942 accuracy is  0.9170513775130307\n",
            "for NI & p= 0.1 mean related error is:  0.08294862248696942 accuracy is  0.9170513775130307\n",
            "for p= 0.1 std of related error is:  0.05196786024468136 std of accuracy is  0.0519678602446814\n",
            "0\n",
            "1\n",
            "2\n",
            "3\n",
            "4\n",
            "5\n",
            "6\n",
            "7\n",
            "8\n",
            "9\n",
            "for CF & p= 0.3 mean related error is:  0.027406855850638446 accuracy is  0.9725931441493616\n",
            "for NI & p= 0.3 mean related error is:  0.027406855850638446 accuracy is  0.9725931441493616\n",
            "for p= 0.3 std of related error is:  0.017253559723637367 std of accuracy is  0.017253559723637357\n",
            "0\n",
            "1\n",
            "2\n",
            "3\n",
            "4\n",
            "5\n",
            "6\n",
            "7\n",
            "8\n",
            "9\n",
            "for CF & p= 0.5 mean related error is:  0.005748324646314222 accuracy is  0.9942516753536857\n",
            "for NI & p= 0.5 mean related error is:  0.005748324646314222 accuracy is  0.9942516753536857\n",
            "for p= 0.5 std of related error is:  0.004232440420861626 std of accuracy is  0.004232440420861637\n",
            "0\n",
            "1\n",
            "2\n",
            "3\n",
            "4\n",
            "5\n",
            "6\n",
            "7\n",
            "8\n",
            "9\n",
            "for CF & p= 0.7 mean related error is:  0.0038727968583454593 accuracy is  0.9961272031416545\n",
            "for NI & p= 0.7 mean related error is:  0.0038727968583454593 accuracy is  0.9961272031416545\n",
            "for p= 0.7 std of related error is:  0.002275383508194761 std of accuracy is  0.0022753835081947586\n",
            "0\n",
            "1\n",
            "2\n",
            "3\n",
            "4\n",
            "5\n",
            "6\n",
            "7\n",
            "8\n",
            "9\n",
            "for CF & p= 0.9 mean related error is:  0.001907160738963447 accuracy is  0.9980928392610366\n",
            "for NI & p= 0.9 mean related error is:  0.001907160738963447 accuracy is  0.9980928392610366\n",
            "for p= 0.9 std of related error is:  0.0012476464008495491 std of accuracy is  0.001247646400849543\n",
            "[6.894785925131975, 4.719726225693157, 3.7172704707971973, 3.112461464422462, 2.708178757049915] [11.72464108301657, 7.750519491778483, 5.928130737330916, 4.835329053025449, 4.0934064926935925]\n"
          ]
        }
      ]
    },
    {
      "cell_type": "code",
      "source": [
        "def createplot(error,speedup, alg):\n",
        "  '''creates scatter plot accuracy-speedup'''\n",
        "\n",
        "  plt.scatter(error,speedup)\n",
        "  plt.scatter\n",
        "  plt.xlabel('Accuracy', fontsize=16)\n",
        "  plt.ylabel(\"Speedup\", fontsize=16)\n",
        "  plt.title(alg, fontsize=18)\n",
        "  plt.xticks(fontsize=14)\n",
        "  plt.yticks(fontsize=14)\n",
        "  plt.savefig(alg+\"_GRQC.png\", bbox_inches='tight',dpi=300)\n",
        "  #plt.savefig(alg+\"_roadCA.png\", bbox_inches='tight',dpi=300)\n",
        "  #plt.savefig(alg+\"_CondMat.png\", bbox_inches='tight',dpi=300)\n",
        "  plt.show()"
      ],
      "metadata": {
        "id": "4gn0G7cqDz3g"
      },
      "execution_count": null,
      "outputs": []
    },
    {
      "cell_type": "code",
      "source": [
        "createplot(acc, dni_speedup, 'Doulion+NodeIterator') #plot speedup for NodeIterator\n",
        "createplot(acc, dcf_speedup, 'Doulion+Compact Forward') #plot speedup for Compact Forward"
      ],
      "metadata": {
        "colab": {
          "base_uri": "https://localhost:8080/",
          "height": 599
        },
        "id": "Ujg9ldyvE_6S",
        "outputId": "ff91d78e-17ac-4193-eb69-f63e36d932e3"
      },
      "execution_count": null,
      "outputs": [
        {
          "output_type": "display_data",
          "data": {
            "text/plain": [
              "<Figure size 432x288 with 1 Axes>"
            ],
            "image/png": "[encoded data removed]"
          },
          "metadata": {
            "needs_background": "light"
          }
        },
        {
          "output_type": "display_data",
          "data": {
            "text/plain": [
              "<Figure size 432x288 with 1 Axes>"
            ],
            "image/png": "[encoded data removed]"
          },
          "metadata": {
            "needs_background": "light"
          }
        }
      ]
    },
    {
      "cell_type": "markdown",
      "source": [
        "#### 3.1 Brute Force on sparcified"
      ],
      "metadata": {
        "id": "FhOZE95WrigO"
      }
    },
    {
      "cell_type": "markdown",
      "source": [
        "# 4.Implementation of Streaming Algorithm\n",
        "The Triest algorithm is a streaming algorithm that estimates the number of triangles in a graph. It was introduced by Alessandro Epasto, Sofya Raskhodnikova, and Aaron Bernstein in the paper \"Counting Triangles in Large Graphs with a Single Pass and Linear Memory\" (2016).\n",
        "\n",
        "The algorithm works by maintaining estimates of the number of triangles in the graph as it processes a stream of edges. It does this by keeping track of two estimates: the global estimate, which is the total number of triangles in the graph, and the local estimate, which is the number of triangles that include a particular vertex.\n",
        "\n",
        "The algorithm starts by initializing the global and local estimates to zero. Then, as each edge is processed, it updates the estimates by incrementing the global estimate and adding one to the local estimates of the two vertices connected by the edge.\n",
        "\n",
        "Finally, after all the edges have been processed, the algorithm calculates the final estimates by dividing the global and local estimates by the total number of edges processed.\n",
        "\n",
        "The Triest algorithm has the advantage of being very fast and requiring only a single pass over the data, making it well-suited for large graphs where it is not practical to compute the exact number of triangles. It also has good accuracy, with error rates typically less than 10%."
      ],
      "metadata": {
        "id": "7qzcP3NbTqUc"
      }
    },
    {
      "cell_type": "code",
      "source": [
        "def triest(G, samples):\n",
        "    M = 0\n",
        "    global_estimates = {}\n",
        "    local_estimates = {}\n",
        "\n",
        "    # Initialize the local and global estimates\n",
        "    for u, v in samples:\n",
        "        if u not in local_estimates:\n",
        "            local_estimates[u] = {}\n",
        "        if v not in local_estimates:\n",
        "            local_estimates[v] = {}\n",
        "        if u not in global_estimates:\n",
        "            global_estimates[u] = 0\n",
        "        if v not in global_estimates:\n",
        "            global_estimates[v] = 0\n",
        "\n",
        "        local_estimates[u][v] = 0\n",
        "        local_estimates[v][u] = 0\n",
        "        global_estimates[u] += 1\n",
        "        global_estimates[v] += 1\n",
        "        M += 1\n",
        "\n",
        "    # Iterate through the samples and update the estimates\n",
        "    for u, v in samples:\n",
        "        M += 1\n",
        "        for w in G[u]:\n",
        "            if w in local_estimates[v]:\n",
        "                local_estimates[v][w] += 1\n",
        "                local_estimates[w][v] += 1\n",
        "            if w in global_estimates:\n",
        "                global_estimates[w] += 1\n",
        "        for w in G[v]:\n",
        "            if w in local_estimates[u]:\n",
        "                local_estimates[u][w] += 1\n",
        "                local_estimates[w][u] += 1\n",
        "            if w in global_estimates:\n",
        "                global_estimates[w] += 1\n",
        "\n",
        "    # Calculate the final estimates\n",
        "    for u, v in samples:\n",
        "        if u in global_estimates and v in global_estimates:\n",
        "            global_estimates[u] = (M * global_estimates[u]) / (global_estimates[u] + global_estimates[v])\n",
        "            global_estimates[v] = (M * global_estimates[v]) / (global_estimates[u] + global_estimates[v])\n",
        "        if u in local_estimates[v] and v in local_estimates[u]:\n",
        "            local_estimates[u][v] = (M * local_estimates[u][v]) / (local_estimates[u][v] + local_estimates[v][u])\n",
        "            local_estimates[v][u] = (M * local_estimates[v][u]) / (local_estimates[u][v] + local_estimates[v][u])\n",
        "\n",
        "    return global_estimates, local_estimates\n"
      ],
      "metadata": {
        "id": "_jbN8Dvv7Cei"
      },
      "execution_count": null,
      "outputs": []
    },
    {
      "cell_type": "code",
      "source": [
        "## FOR TESTING\n",
        "triest_triangles = triest(g,)\n",
        "print(triest_triangles)"
      ],
      "metadata": {
        "colab": {
          "base_uri": "https://localhost:8080/",
          "height": 200
        },
        "id": "UsJqlw0mEQiY",
        "outputId": "8faced61-bcb7-4deb-8a6c-9ea36b88d12f"
      },
      "execution_count": null,
      "outputs": [
        {
          "output_type": "error",
          "ename": "TypeError",
          "evalue": "ignored",
          "traceback": [
            "\u001b[0;31m---------------------------------------------------------------------------\u001b[0m",
            "\u001b[0;31mTypeError\u001b[0m                                 Traceback (most recent call last)",
            "\u001b[0;32m<ipython-input-6-ddeb112f5077>\u001b[0m in \u001b[0;36m<module>\u001b[0;34m\u001b[0m\n\u001b[1;32m      1\u001b[0m \u001b[0;31m## FOR TESTING\u001b[0m\u001b[0;34m\u001b[0m\u001b[0;34m\u001b[0m\u001b[0;34m\u001b[0m\u001b[0m\n\u001b[0;32m----> 2\u001b[0;31m \u001b[0mtriest_triangles\u001b[0m \u001b[0;34m=\u001b[0m \u001b[0mtriest\u001b[0m\u001b[0;34m(\u001b[0m\u001b[0mg\u001b[0m\u001b[0;34m,\u001b[0m\u001b[0;34m)\u001b[0m\u001b[0;34m\u001b[0m\u001b[0;34m\u001b[0m\u001b[0m\n\u001b[0m\u001b[1;32m      3\u001b[0m \u001b[0mprint\u001b[0m\u001b[0;34m(\u001b[0m\u001b[0mtriest_triangles\u001b[0m\u001b[0;34m)\u001b[0m\u001b[0;34m\u001b[0m\u001b[0;34m\u001b[0m\u001b[0m\n",
            "\u001b[0;31mTypeError\u001b[0m: triest() missing 1 required positional argument: 'samples'"
          ]
        }
      ]
    },
    {
      "cell_type": "code",
      "source": [
        "def update_counters(G,u,v):\n",
        "\n",
        "  neighbors = list(sorted(nx.common_neighbors(G, u, v)))\n",
        "\n",
        "\n",
        "\n",
        "def triest1(G):\n",
        "\n",
        "  G = nx.read_edgelist(io.BytesIO(uploaded[\"CA-GrQc.txt\"]),create_using=nx.Graph(), nodetype = int)\n",
        "\n",
        "  S = 0\n",
        "  t = 0\n",
        "  counter = 0\n",
        "\n",
        "  for u,v in G.edges:\n",
        "    t += 1\n",
        "    update_counters(G,u,v)\n",
        "\n",
        "\n",
        "triest1(g)\n"
      ],
      "metadata": {
        "id": "aov8pQj2W-Os"
      },
      "execution_count": null,
      "outputs": []
    },
    {
      "cell_type": "code",
      "source": [
        "from google.colab import files\n",
        "uploaded = files.upload()"
      ],
      "metadata": {
        "colab": {
          "base_uri": "https://localhost:8080/",
          "height": 74
        },
        "id": "XK5Az2r47Qaq",
        "outputId": "a8277055-0215-4ad0-8098-22ee37946dd3"
      },
      "execution_count": null,
      "outputs": [
        {
          "output_type": "display_data",
          "data": {
            "text/plain": [
              "<IPython.core.display.HTML object>"
            ],
            "text/html": [
              "\n",
              "     <input type=\"file\" id=\"files-c4da9285-4299-445e-b50b-f19c76ef27c9\" name=\"files[]\" multiple disabled\n",
              "        style=\"border:none\" />\n",
              "     <output id=\"result-c4da9285-4299-445e-b50b-f19c76ef27c9\">\n",
              "      Upload widget is only available when the cell has been executed in the\n",
              "      current browser session. Please rerun this cell to enable.\n",
              "      </output>\n",
              "      <script>// Copyright 2017 Google LLC\n",
              "//\n",
              "// Licensed under the Apache License, Version 2.0 (the \"License\");\n",
              "// you may not use this file except in compliance with the License.\n",
              "// You may obtain a copy of the License at\n",
              "//\n",
              "//      http://www.apache.org/licenses/LICENSE-2.0\n",
              "//\n",
              "// Unless required by applicable law or agreed to in writing, software\n",
              "// distributed under the License is distributed on an \"AS IS\" BASIS,\n",
              "// WITHOUT WARRANTIES OR CONDITIONS OF ANY KIND, either express or implied.\n",
              "// See the License for the specific language governing permissions and\n",
              "// limitations under the License.\n",
              "\n",
              "/**\n",
              " * @fileoverview Helpers for google.colab Python module.\n",
              " */\n",
              "(function(scope) {\n",
              "function span(text, styleAttributes = {}) {\n",
              "  const element = document.createElement('span');\n",
              "  element.textContent = text;\n",
              "  for (const key of Object.keys(styleAttributes)) {\n",
              "    element.style[key] = styleAttributes[key];\n",
              "  }\n",
              "  return element;\n",
              "}\n",
              "\n",
              "// Max number of bytes which will be uploaded at a time.\n",
              "const MAX_PAYLOAD_SIZE = 100 * 1024;\n",
              "\n",
              "function _uploadFiles(inputId, outputId) {\n",
              "  const steps = uploadFilesStep(inputId, outputId);\n",
              "  const outputElement = document.getElementById(outputId);\n",
              "  // Cache steps on the outputElement to make it available for the next call\n",
              "  // to uploadFilesContinue from Python.\n",
              "  outputElement.steps = steps;\n",
              "\n",
              "  return _uploadFilesContinue(outputId);\n",
              "}\n",
              "\n",
              "// This is roughly an async generator (not supported in the browser yet),\n",
              "// where there are multiple asynchronous steps and the Python side is going\n",
              "// to poll for completion of each step.\n",
              "// This uses a Promise to block the python side on completion of each step,\n",
              "// then passes the result of the previous step as the input to the next step.\n",
              "function _uploadFilesContinue(outputId) {\n",
              "  const outputElement = document.getElementById(outputId);\n",
              "  const steps = outputElement.steps;\n",
              "\n",
              "  const next = steps.next(outputElement.lastPromiseValue);\n",
              "  return Promise.resolve(next.value.promise).then((value) => {\n",
              "    // Cache the last promise value to make it available to the next\n",
              "    // step of the generator.\n",
              "    outputElement.lastPromiseValue = value;\n",
              "    return next.value.response;\n",
              "  });\n",
              "}\n",
              "\n",
              "/**\n",
              " * Generator function which is called between each async step of the upload\n",
              " * process.\n",
              " * @param {string} inputId Element ID of the input file picker element.\n",
              " * @param {string} outputId Element ID of the output display.\n",
              " * @return {!Iterable<!Object>} Iterable of next steps.\n",
              " */\n",
              "function* uploadFilesStep(inputId, outputId) {\n",
              "  const inputElement = document.getElementById(inputId);\n",
              "  inputElement.disabled = false;\n",
              "\n",
              "  const outputElement = document.getElementById(outputId);\n",
              "  outputElement.innerHTML = '';\n",
              "\n",
              "  const pickedPromise = new Promise((resolve) => {\n",
              "    inputElement.addEventListener('change', (e) => {\n",
              "      resolve(e.target.files);\n",
              "    });\n",
              "  });\n",
              "\n",
              "  const cancel = document.createElement('button');\n",
              "  inputElement.parentElement.appendChild(cancel);\n",
              "  cancel.textContent = 'Cancel upload';\n",
              "  const cancelPromise = new Promise((resolve) => {\n",
              "    cancel.onclick = () => {\n",
              "      resolve(null);\n",
              "    };\n",
              "  });\n",
              "\n",
              "  // Wait for the user to pick the files.\n",
              "  const files = yield {\n",
              "    promise: Promise.race([pickedPromise, cancelPromise]),\n",
              "    response: {\n",
              "      action: 'starting',\n",
              "    }\n",
              "  };\n",
              "\n",
              "  cancel.remove();\n",
              "\n",
              "  // Disable the input element since further picks are not allowed.\n",
              "  inputElement.disabled = true;\n",
              "\n",
              "  if (!files) {\n",
              "    return {\n",
              "      response: {\n",
              "        action: 'complete',\n",
              "      }\n",
              "    };\n",
              "  }\n",
              "\n",
              "  for (const file of files) {\n",
              "    const li = document.createElement('li');\n",
              "    li.append(span(file.name, {fontWeight: 'bold'}));\n",
              "    li.append(span(\n",
              "        `(${file.type || 'n/a'}) - ${file.size} bytes, ` +\n",
              "        `last modified: ${\n",
              "            file.lastModifiedDate ? file.lastModifiedDate.toLocaleDateString() :\n",
              "                                    'n/a'} - `));\n",
              "    const percent = span('0% done');\n",
              "    li.appendChild(percent);\n",
              "\n",
              "    outputElement.appendChild(li);\n",
              "\n",
              "    const fileDataPromise = new Promise((resolve) => {\n",
              "      const reader = new FileReader();\n",
              "      reader.onload = (e) => {\n",
              "        resolve(e.target.result);\n",
              "      };\n",
              "      reader.readAsArrayBuffer(file);\n",
              "    });\n",
              "    // Wait for the data to be ready.\n",
              "    let fileData = yield {\n",
              "      promise: fileDataPromise,\n",
              "      response: {\n",
              "        action: 'continue',\n",
              "      }\n",
              "    };\n",
              "\n",
              "    // Use a chunked sending to avoid message size limits. See b/62115660.\n",
              "    let position = 0;\n",
              "    do {\n",
              "      const length = Math.min(fileData.byteLength - position, MAX_PAYLOAD_SIZE);\n",
              "      const chunk = new Uint8Array(fileData, position, length);\n",
              "      position += length;\n",
              "\n",
              "      const base64 = btoa(String.fromCharCode.apply(null, chunk));\n",
              "      yield {\n",
              "        response: {\n",
              "          action: 'append',\n",
              "          file: file.name,\n",
              "          data: base64,\n",
              "        },\n",
              "      };\n",
              "\n",
              "      let percentDone = fileData.byteLength === 0 ?\n",
              "          100 :\n",
              "          Math.round((position / fileData.byteLength) * 100);\n",
              "      percent.textContent = `${percentDone}% done`;\n",
              "\n",
              "    } while (position < fileData.byteLength);\n",
              "  }\n",
              "\n",
              "  // All done.\n",
              "  yield {\n",
              "    response: {\n",
              "      action: 'complete',\n",
              "    }\n",
              "  };\n",
              "}\n",
              "\n",
              "scope.google = scope.google || {};\n",
              "scope.google.colab = scope.google.colab || {};\n",
              "scope.google.colab._files = {\n",
              "  _uploadFiles,\n",
              "  _uploadFilesContinue,\n",
              "};\n",
              "})(self);\n",
              "</script> "
            ]
          },
          "metadata": {}
        },
        {
          "output_type": "stream",
          "name": "stdout",
          "text": [
            "Saving CA-GrQc.txt to CA-GrQc.txt\n"
          ]
        }
      ]
    },
    {
      "cell_type": "code",
      "source": [
        "# Helper Funtions - Triest\n",
        "def flip_biased_coin(M,_t):\n",
        "  head_prob = random.random()\n",
        "  if head_prob <= M/t:\n",
        "      return True\n",
        "  else:\n",
        "      return False\n",
        "\n",
        "def sample_edge (sample,u,v,M,_t):\n",
        "  if _t<=M:\n",
        "    return True\n",
        "  elif flip_biased_coin(M,_t):\n",
        "    # random edge choice\n",
        "    chosen_edge = random.choice(list(sample.edges))\n",
        "    sample.remove_edge(chosen_edge[0],chosen_edge[1])\n",
        "    return True\n",
        "  return False\n",
        "\n",
        "def update_counters(sample,u,v,M,_t,globalT):\n",
        "  if (u in sample.nodes) & (v in sample.nodes):\n",
        "    common_neighbors = list(sorted(nx.common_neighbors(sample, u, v)))\n",
        "    if not common_neighbors:\n",
        "      return globalT\n",
        "    increment_t = max(1, int(((_t-1)*(_t-2))/(M * (M - 1))))\n",
        "    for neighbor in common_neighbors:\n",
        "      globalT += increment_t\n",
        "  return globalT # globalT = update_counters(sample, u,v,M,_t,globalT)\n"
      ],
      "metadata": {
        "id": "k8L6fWUJAgfK"
      },
      "execution_count": null,
      "outputs": []
    },
    {
      "cell_type": "code",
      "source": [
        "import pandas as pd\n",
        "from networkx.algorithms.distance_regular import global_parameters\n",
        "import random\n",
        "\n",
        "df = pd.read_csv('Book1.csv', delimiter=';')\n",
        "print(len(df))\n",
        "\n",
        "df = df.drop_duplicates()\n",
        "df = df.apply(lambda r: sorted(r), axis = 1).drop_duplicates()\n",
        "print(len(df))"
      ],
      "metadata": {
        "colab": {
          "base_uri": "https://localhost:8080/"
        },
        "id": "nmqBMC3B_wiS",
        "outputId": "740096a3-abbe-40a6-ffe9-f5cdab41f6af"
      },
      "execution_count": null,
      "outputs": [
        {
          "output_type": "stream",
          "name": "stdout",
          "text": [
            "28979\n",
            "14496\n"
          ]
        }
      ]
    },
    {
      "cell_type": "code",
      "source": [
        "edge_list = list(df.values)\n",
        "print(type(edge_list))"
      ],
      "metadata": {
        "colab": {
          "base_uri": "https://localhost:8080/"
        },
        "id": "PeKQySxL_5G7",
        "outputId": "2849d1c0-71d9-4d97-fb25-c6cae66131e1"
      },
      "execution_count": null,
      "outputs": [
        {
          "output_type": "stream",
          "name": "stdout",
          "text": [
            "<class 'list'>\n"
          ]
        }
      ]
    },
    {
      "cell_type": "code",
      "source": [
        "#final TRIEST\n",
        "\n",
        "M=14496 # Memory\n",
        "globalT =0\n",
        "t=0\n",
        "#pace=10\n",
        "\n",
        "sample =nx.empty_graph()\n",
        "\n",
        "for edge in edge_list: \n",
        "  \n",
        "  u = edge[0]\n",
        "  v = edge[1]\n",
        "  if u!=v: #check for the self-loops\n",
        "    check = sample.has_edge(u,v) \n",
        "    if check==False:\n",
        "      t+=1\n",
        "      globalT = update_counters(sample,u,v,M,t,globalT)\n",
        "      if sample_edge(sample,u,v,M,t):\n",
        "        sample.add_edge(u,v)\n",
        "      if t%10000==0:\n",
        "        print(t,globalT)\n",
        "'''\n",
        "for i in range(0,len(edge_list), pace):\n",
        "  if (i+pace)<=len(edge_list):\n",
        "      edges = edge_list[i:i+pace]\n",
        "  else:\n",
        "      edges = edge_list[i:len(edge_list)]\n",
        "  for edge in edges:       \n",
        "    u = edge[0]\n",
        "    v = edge[1]\n",
        "    if u!=v: #check for the self-loops\n",
        "      check = sample.has_edge(u,v) \n",
        "      if check==False:\n",
        "        t+=1\n",
        "        globalT = update_counters(sample,u,v,M,t,globalT)\n",
        "        if sample_edge(sample,u,v,M,t):\n",
        "          sample.add_edge(u,v)\n",
        "        if t%10000==0:\n",
        "          print(t,globalT)\n",
        "'''    \n",
        "            \n",
        "        \n",
        "print(nx.info(sample))\n",
        "print(globalT)\n"
      ],
      "metadata": {
        "colab": {
          "base_uri": "https://localhost:8080/"
        },
        "id": "mL_k3bMEBoEp",
        "outputId": "cbd9ed2f-59af-47ac-f8d3-4e3247a0dbee"
      },
      "execution_count": null,
      "outputs": [
        {
          "output_type": "stream",
          "name": "stdout",
          "text": [
            "10000 22277\n",
            "Graph with 5241 nodes and 14484 edges\n",
            "48260\n"
          ]
        },
        {
          "output_type": "stream",
          "name": "stderr",
          "text": [
            "<ipython-input-67-e22aed0b8f50>:45: DeprecationWarning: info is deprecated and will be removed in version 3.0.\n",
            "\n",
            "  print(nx.info(sample))\n"
          ]
        }
      ]
    },
    {
      "cell_type": "code",
      "source": [
        "\n",
        "M=7000 # Memory\n",
        "globalT =0\n",
        "localT={}\n",
        "t=0\n",
        "pace=10\n",
        "\n",
        "sample =nx.empty_graph()\n",
        "n=0\n",
        "with open('CA-GrQc.txt','r') as f:\n",
        "  lines = f.readlines()\n",
        "  print(type(lines[0]))\n",
        "\n",
        "# Add first M edges to the graph\n",
        "\n",
        "for line in lines: #while G_new.number_of_edges() < M :\n",
        "  \n",
        "  new = line.replace('\\t', ' ').replace('\\n', '')\n",
        "  u,v = new.split(' ')\n",
        "  check = sample.has_edge(u,v)\n",
        "  if check==False:\n",
        "    t+=1\n",
        "    globalT = update_counters(sample,u,v,M,t,globalT)\n",
        "    if sample_edge(sample,u,v,M,t):\n",
        "      sample.add_edge(u,v)\n",
        "    if t%10000==0:\n",
        "      print(t,globalT)\n",
        "      \n",
        "print(nx.info(sample))\n",
        "print(globalT)"
      ],
      "metadata": {
        "colab": {
          "base_uri": "https://localhost:8080/",
          "height": 425
        },
        "id": "yzscOyvfiezX",
        "outputId": "1bd70017-b92a-4dbc-8258-e01d0c7ee91f"
      },
      "execution_count": null,
      "outputs": [
        {
          "output_type": "stream",
          "name": "stdout",
          "text": [
            "<class 'str'>\n"
          ]
        },
        {
          "output_type": "error",
          "ename": "KeyboardInterrupt",
          "evalue": "ignored",
          "traceback": [
            "\u001b[0;31m---------------------------------------------------------------------------\u001b[0m",
            "\u001b[0;31mKeyboardInterrupt\u001b[0m                         Traceback (most recent call last)",
            "\u001b[0;32m<ipython-input-23-b5ba4a14e2c8>\u001b[0m in \u001b[0;36m<module>\u001b[0;34m\u001b[0m\n\u001b[1;32m     21\u001b[0m     \u001b[0mt\u001b[0m\u001b[0;34m+=\u001b[0m\u001b[0;36m1\u001b[0m\u001b[0;34m\u001b[0m\u001b[0;34m\u001b[0m\u001b[0m\n\u001b[1;32m     22\u001b[0m     \u001b[0mglobalT\u001b[0m \u001b[0;34m=\u001b[0m \u001b[0mupdate_counters\u001b[0m\u001b[0;34m(\u001b[0m\u001b[0msample\u001b[0m\u001b[0;34m,\u001b[0m\u001b[0mu\u001b[0m\u001b[0;34m,\u001b[0m\u001b[0mv\u001b[0m\u001b[0;34m,\u001b[0m\u001b[0mM\u001b[0m\u001b[0;34m,\u001b[0m\u001b[0mt\u001b[0m\u001b[0;34m,\u001b[0m\u001b[0mglobalT\u001b[0m\u001b[0;34m)\u001b[0m\u001b[0;34m\u001b[0m\u001b[0;34m\u001b[0m\u001b[0m\n\u001b[0;32m---> 23\u001b[0;31m     \u001b[0;32mif\u001b[0m \u001b[0msample_edge\u001b[0m\u001b[0;34m(\u001b[0m\u001b[0msample\u001b[0m\u001b[0;34m,\u001b[0m\u001b[0mu\u001b[0m\u001b[0;34m,\u001b[0m\u001b[0mv\u001b[0m\u001b[0;34m,\u001b[0m\u001b[0mM\u001b[0m\u001b[0;34m,\u001b[0m\u001b[0mt\u001b[0m\u001b[0;34m)\u001b[0m\u001b[0;34m:\u001b[0m\u001b[0;34m\u001b[0m\u001b[0;34m\u001b[0m\u001b[0m\n\u001b[0m\u001b[1;32m     24\u001b[0m       \u001b[0msample\u001b[0m\u001b[0;34m.\u001b[0m\u001b[0madd_edge\u001b[0m\u001b[0;34m(\u001b[0m\u001b[0mu\u001b[0m\u001b[0;34m,\u001b[0m\u001b[0mv\u001b[0m\u001b[0;34m)\u001b[0m\u001b[0;34m\u001b[0m\u001b[0;34m\u001b[0m\u001b[0m\n\u001b[1;32m     25\u001b[0m     \u001b[0;32mif\u001b[0m \u001b[0mt\u001b[0m\u001b[0;34m%\u001b[0m\u001b[0;36m10000\u001b[0m\u001b[0;34m==\u001b[0m\u001b[0;36m0\u001b[0m\u001b[0;34m:\u001b[0m\u001b[0;34m\u001b[0m\u001b[0;34m\u001b[0m\u001b[0m\n",
            "\u001b[0;32m<ipython-input-11-746d9fa86629>\u001b[0m in \u001b[0;36msample_edge\u001b[0;34m(sample, u, v, M, _t)\u001b[0m\n\u001b[1;32m     12\u001b[0m   \u001b[0;32melif\u001b[0m \u001b[0mflip_biased_coin\u001b[0m\u001b[0;34m(\u001b[0m\u001b[0mM\u001b[0m\u001b[0;34m,\u001b[0m\u001b[0m_t\u001b[0m\u001b[0;34m)\u001b[0m\u001b[0;34m:\u001b[0m\u001b[0;34m\u001b[0m\u001b[0;34m\u001b[0m\u001b[0m\n\u001b[1;32m     13\u001b[0m     \u001b[0;31m# random edge choice\u001b[0m\u001b[0;34m\u001b[0m\u001b[0;34m\u001b[0m\u001b[0;34m\u001b[0m\u001b[0m\n\u001b[0;32m---> 14\u001b[0;31m     \u001b[0mchosen_edge\u001b[0m \u001b[0;34m=\u001b[0m \u001b[0mrandom\u001b[0m\u001b[0;34m.\u001b[0m\u001b[0mchoice\u001b[0m\u001b[0;34m(\u001b[0m\u001b[0mlist\u001b[0m\u001b[0;34m(\u001b[0m\u001b[0msample\u001b[0m\u001b[0;34m.\u001b[0m\u001b[0medges\u001b[0m\u001b[0;34m)\u001b[0m\u001b[0;34m)\u001b[0m\u001b[0;34m\u001b[0m\u001b[0;34m\u001b[0m\u001b[0m\n\u001b[0m\u001b[1;32m     15\u001b[0m     \u001b[0msample\u001b[0m\u001b[0;34m.\u001b[0m\u001b[0mremove_edge\u001b[0m\u001b[0;34m(\u001b[0m\u001b[0mchosen_edge\u001b[0m\u001b[0;34m[\u001b[0m\u001b[0;36m0\u001b[0m\u001b[0;34m]\u001b[0m\u001b[0;34m,\u001b[0m\u001b[0mchosen_edge\u001b[0m\u001b[0;34m[\u001b[0m\u001b[0;36m1\u001b[0m\u001b[0;34m]\u001b[0m\u001b[0;34m)\u001b[0m\u001b[0;34m\u001b[0m\u001b[0;34m\u001b[0m\u001b[0m\n\u001b[1;32m     16\u001b[0m     \u001b[0;32mreturn\u001b[0m \u001b[0;32mTrue\u001b[0m\u001b[0;34m\u001b[0m\u001b[0;34m\u001b[0m\u001b[0m\n",
            "\u001b[0;32m/usr/local/lib/python3.8/dist-packages/networkx/classes/reportviews.py\u001b[0m in \u001b[0;36m__iter__\u001b[0;34m(self)\u001b[0m\n\u001b[1;32m   1270\u001b[0m             \u001b[0;32mfor\u001b[0m \u001b[0mnbr\u001b[0m \u001b[0;32min\u001b[0m \u001b[0mlist\u001b[0m\u001b[0;34m(\u001b[0m\u001b[0mnbrs\u001b[0m\u001b[0;34m)\u001b[0m\u001b[0;34m:\u001b[0m\u001b[0;34m\u001b[0m\u001b[0;34m\u001b[0m\u001b[0m\n\u001b[1;32m   1271\u001b[0m                 \u001b[0;32mif\u001b[0m \u001b[0mnbr\u001b[0m \u001b[0;32mnot\u001b[0m \u001b[0;32min\u001b[0m \u001b[0mseen\u001b[0m\u001b[0;34m:\u001b[0m\u001b[0;34m\u001b[0m\u001b[0;34m\u001b[0m\u001b[0m\n\u001b[0;32m-> 1272\u001b[0;31m                     \u001b[0;32myield\u001b[0m \u001b[0;34m(\u001b[0m\u001b[0mn\u001b[0m\u001b[0;34m,\u001b[0m \u001b[0mnbr\u001b[0m\u001b[0;34m)\u001b[0m\u001b[0;34m\u001b[0m\u001b[0;34m\u001b[0m\u001b[0m\n\u001b[0m\u001b[1;32m   1273\u001b[0m             \u001b[0mseen\u001b[0m\u001b[0;34m[\u001b[0m\u001b[0mn\u001b[0m\u001b[0;34m]\u001b[0m \u001b[0;34m=\u001b[0m \u001b[0;36m1\u001b[0m\u001b[0;34m\u001b[0m\u001b[0;34m\u001b[0m\u001b[0m\n\u001b[1;32m   1274\u001b[0m         \u001b[0;32mdel\u001b[0m \u001b[0mseen\u001b[0m\u001b[0;34m\u001b[0m\u001b[0;34m\u001b[0m\u001b[0m\n",
            "\u001b[0;31mKeyboardInterrupt\u001b[0m: "
          ]
        }
      ]
    },
    {
      "cell_type": "code",
      "source": [
        "print(nx.info(sample))\n",
        "print(globalT)"
      ],
      "metadata": {
        "colab": {
          "base_uri": "https://localhost:8080/"
        },
        "id": "Tq_VPa9JXqn3",
        "outputId": "1d2e4b08-816d-4912-e8eb-0b34afe73096"
      },
      "execution_count": null,
      "outputs": [
        {
          "output_type": "stream",
          "name": "stdout",
          "text": [
            "Graph with 4828 nodes and 2986 edges\n",
            "209009\n"
          ]
        },
        {
          "output_type": "stream",
          "name": "stderr",
          "text": [
            "<ipython-input-11-0d6a5cd36814>:1: DeprecationWarning: info is deprecated and will be removed in version 3.0.\n",
            "\n",
            "  print(nx.info(sample))\n"
          ]
        }
      ]
    }
  ]
}